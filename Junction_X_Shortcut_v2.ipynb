{
 "cells": [
  {
   "cell_type": "markdown",
   "metadata": {},
   "source": [
    "Some coding we did at Data Science Workshop : Junction X Shortcut , The Sortcut Lab, 21.09.2019\n",
    "The data file is here: https://drive.google.com/file/d/1BIoT8KmJBYFWtK-1d31lA4ZZnEepRBBN/view?usp=sharing"
   ]
  },
  {
   "cell_type": "code",
   "execution_count": 50,
   "metadata": {},
   "outputs": [],
   "source": [
    "# Load useful libraries\n",
    "\n",
    "import numpy as np\n",
    "import matplotlib.pyplot as plt\n",
    "import pandas as pd"
   ]
  },
  {
   "cell_type": "code",
   "execution_count": 51,
   "metadata": {
    "scrolled": false
   },
   "outputs": [
    {
     "data": {
      "text/html": [
       "<div>\n",
       "<style scoped>\n",
       "    .dataframe tbody tr th:only-of-type {\n",
       "        vertical-align: middle;\n",
       "    }\n",
       "\n",
       "    .dataframe tbody tr th {\n",
       "        vertical-align: top;\n",
       "    }\n",
       "\n",
       "    .dataframe thead th {\n",
       "        text-align: right;\n",
       "    }\n",
       "</style>\n",
       "<table border=\"1\" class=\"dataframe\">\n",
       "  <thead>\n",
       "    <tr style=\"text-align: right;\">\n",
       "      <th></th>\n",
       "      <th>user_id</th>\n",
       "      <th>name</th>\n",
       "      <th>review_count</th>\n",
       "      <th>yelping_since</th>\n",
       "      <th>friends</th>\n",
       "      <th>useful</th>\n",
       "      <th>funny</th>\n",
       "      <th>cool</th>\n",
       "      <th>fans</th>\n",
       "      <th>elite</th>\n",
       "      <th>...</th>\n",
       "      <th>compliment_more</th>\n",
       "      <th>compliment_profile</th>\n",
       "      <th>compliment_cute</th>\n",
       "      <th>compliment_list</th>\n",
       "      <th>compliment_note</th>\n",
       "      <th>compliment_plain</th>\n",
       "      <th>compliment_cool</th>\n",
       "      <th>compliment_funny</th>\n",
       "      <th>compliment_writer</th>\n",
       "      <th>compliment_photos</th>\n",
       "    </tr>\n",
       "  </thead>\n",
       "  <tbody>\n",
       "    <tr>\n",
       "      <td>0</td>\n",
       "      <td>JJ-aSuM4pCFPdkfoZ34q0Q</td>\n",
       "      <td>Chris</td>\n",
       "      <td>10</td>\n",
       "      <td>2013-09-24</td>\n",
       "      <td>0njfJmB-7n84DlIgUByCNw, rFn3Xe3RqHxRSxWOU19Gpg...</td>\n",
       "      <td>0</td>\n",
       "      <td>0</td>\n",
       "      <td>0</td>\n",
       "      <td>0</td>\n",
       "      <td>None</td>\n",
       "      <td>...</td>\n",
       "      <td>0</td>\n",
       "      <td>0</td>\n",
       "      <td>0</td>\n",
       "      <td>0</td>\n",
       "      <td>0</td>\n",
       "      <td>0</td>\n",
       "      <td>0</td>\n",
       "      <td>0</td>\n",
       "      <td>0</td>\n",
       "      <td>0</td>\n",
       "    </tr>\n",
       "    <tr>\n",
       "      <td>1</td>\n",
       "      <td>uUzsFQn_6cXDh6rPNGbIFA</td>\n",
       "      <td>Tiffy</td>\n",
       "      <td>1</td>\n",
       "      <td>2017-03-02</td>\n",
       "      <td>None</td>\n",
       "      <td>0</td>\n",
       "      <td>0</td>\n",
       "      <td>0</td>\n",
       "      <td>0</td>\n",
       "      <td>None</td>\n",
       "      <td>...</td>\n",
       "      <td>0</td>\n",
       "      <td>0</td>\n",
       "      <td>0</td>\n",
       "      <td>0</td>\n",
       "      <td>0</td>\n",
       "      <td>0</td>\n",
       "      <td>0</td>\n",
       "      <td>0</td>\n",
       "      <td>0</td>\n",
       "      <td>0</td>\n",
       "    </tr>\n",
       "    <tr>\n",
       "      <td>2</td>\n",
       "      <td>mBneaEEH5EMyxaVyqS-72A</td>\n",
       "      <td>Mark</td>\n",
       "      <td>6</td>\n",
       "      <td>2015-03-13</td>\n",
       "      <td>None</td>\n",
       "      <td>0</td>\n",
       "      <td>0</td>\n",
       "      <td>0</td>\n",
       "      <td>0</td>\n",
       "      <td>None</td>\n",
       "      <td>...</td>\n",
       "      <td>0</td>\n",
       "      <td>0</td>\n",
       "      <td>0</td>\n",
       "      <td>0</td>\n",
       "      <td>0</td>\n",
       "      <td>0</td>\n",
       "      <td>0</td>\n",
       "      <td>0</td>\n",
       "      <td>0</td>\n",
       "      <td>0</td>\n",
       "    </tr>\n",
       "    <tr>\n",
       "      <td>3</td>\n",
       "      <td>W5mJGs-dcDWRGEhAzUYtoA</td>\n",
       "      <td>Evelyn</td>\n",
       "      <td>3</td>\n",
       "      <td>2016-09-08</td>\n",
       "      <td>None</td>\n",
       "      <td>0</td>\n",
       "      <td>0</td>\n",
       "      <td>0</td>\n",
       "      <td>0</td>\n",
       "      <td>None</td>\n",
       "      <td>...</td>\n",
       "      <td>0</td>\n",
       "      <td>0</td>\n",
       "      <td>0</td>\n",
       "      <td>0</td>\n",
       "      <td>0</td>\n",
       "      <td>0</td>\n",
       "      <td>0</td>\n",
       "      <td>0</td>\n",
       "      <td>0</td>\n",
       "      <td>0</td>\n",
       "    </tr>\n",
       "    <tr>\n",
       "      <td>4</td>\n",
       "      <td>4E8--zUZO1Rr1IBK4_83fg</td>\n",
       "      <td>Lisa</td>\n",
       "      <td>11</td>\n",
       "      <td>2012-07-16</td>\n",
       "      <td>None</td>\n",
       "      <td>4</td>\n",
       "      <td>0</td>\n",
       "      <td>0</td>\n",
       "      <td>0</td>\n",
       "      <td>None</td>\n",
       "      <td>...</td>\n",
       "      <td>0</td>\n",
       "      <td>0</td>\n",
       "      <td>0</td>\n",
       "      <td>0</td>\n",
       "      <td>0</td>\n",
       "      <td>0</td>\n",
       "      <td>0</td>\n",
       "      <td>0</td>\n",
       "      <td>1</td>\n",
       "      <td>0</td>\n",
       "    </tr>\n",
       "    <tr>\n",
       "      <td>...</td>\n",
       "      <td>...</td>\n",
       "      <td>...</td>\n",
       "      <td>...</td>\n",
       "      <td>...</td>\n",
       "      <td>...</td>\n",
       "      <td>...</td>\n",
       "      <td>...</td>\n",
       "      <td>...</td>\n",
       "      <td>...</td>\n",
       "      <td>...</td>\n",
       "      <td>...</td>\n",
       "      <td>...</td>\n",
       "      <td>...</td>\n",
       "      <td>...</td>\n",
       "      <td>...</td>\n",
       "      <td>...</td>\n",
       "      <td>...</td>\n",
       "      <td>...</td>\n",
       "      <td>...</td>\n",
       "      <td>...</td>\n",
       "      <td>...</td>\n",
       "    </tr>\n",
       "    <tr>\n",
       "      <td>99994</td>\n",
       "      <td>ljbv0JWIqo0UkLM3rRukyA</td>\n",
       "      <td>Andrew</td>\n",
       "      <td>34</td>\n",
       "      <td>2015-11-11</td>\n",
       "      <td>wd0g1sdv0t_c3izP-dzwsA, 8iR3-iNYomnHJTmOW_YGdg...</td>\n",
       "      <td>0</td>\n",
       "      <td>0</td>\n",
       "      <td>0</td>\n",
       "      <td>0</td>\n",
       "      <td>None</td>\n",
       "      <td>...</td>\n",
       "      <td>0</td>\n",
       "      <td>0</td>\n",
       "      <td>0</td>\n",
       "      <td>0</td>\n",
       "      <td>0</td>\n",
       "      <td>0</td>\n",
       "      <td>0</td>\n",
       "      <td>0</td>\n",
       "      <td>0</td>\n",
       "      <td>0</td>\n",
       "    </tr>\n",
       "    <tr>\n",
       "      <td>99995</td>\n",
       "      <td>iIxVkZmTWmdzFSjtiIYudw</td>\n",
       "      <td>Therese</td>\n",
       "      <td>103</td>\n",
       "      <td>2010-12-13</td>\n",
       "      <td>AWWHjw13FijOY7L6guq-0w, em_k4RLRpMIJnFitLNOybQ...</td>\n",
       "      <td>55</td>\n",
       "      <td>18</td>\n",
       "      <td>34</td>\n",
       "      <td>6</td>\n",
       "      <td>2017</td>\n",
       "      <td>...</td>\n",
       "      <td>0</td>\n",
       "      <td>0</td>\n",
       "      <td>0</td>\n",
       "      <td>0</td>\n",
       "      <td>6</td>\n",
       "      <td>3</td>\n",
       "      <td>17</td>\n",
       "      <td>17</td>\n",
       "      <td>1</td>\n",
       "      <td>5</td>\n",
       "    </tr>\n",
       "    <tr>\n",
       "      <td>99996</td>\n",
       "      <td>iAoviaXKqg503AJD_DTCSA</td>\n",
       "      <td>Ryan</td>\n",
       "      <td>1</td>\n",
       "      <td>2016-05-28</td>\n",
       "      <td>611X1OIrUX9sMVi5L_EsQw, avLFGjrMz1BpO-gcD_qQ-g...</td>\n",
       "      <td>0</td>\n",
       "      <td>0</td>\n",
       "      <td>0</td>\n",
       "      <td>0</td>\n",
       "      <td>None</td>\n",
       "      <td>...</td>\n",
       "      <td>0</td>\n",
       "      <td>0</td>\n",
       "      <td>0</td>\n",
       "      <td>0</td>\n",
       "      <td>0</td>\n",
       "      <td>0</td>\n",
       "      <td>0</td>\n",
       "      <td>0</td>\n",
       "      <td>0</td>\n",
       "      <td>0</td>\n",
       "    </tr>\n",
       "    <tr>\n",
       "      <td>99997</td>\n",
       "      <td>29YAiVLItU2eCxPOLG6xNQ</td>\n",
       "      <td>Caitlin</td>\n",
       "      <td>10</td>\n",
       "      <td>2015-05-15</td>\n",
       "      <td>DELW5OCaITr-3auajcGZNg, FArBkNs7UCu02v1hThwz6w...</td>\n",
       "      <td>0</td>\n",
       "      <td>0</td>\n",
       "      <td>0</td>\n",
       "      <td>1</td>\n",
       "      <td>None</td>\n",
       "      <td>...</td>\n",
       "      <td>1</td>\n",
       "      <td>0</td>\n",
       "      <td>0</td>\n",
       "      <td>0</td>\n",
       "      <td>0</td>\n",
       "      <td>0</td>\n",
       "      <td>0</td>\n",
       "      <td>0</td>\n",
       "      <td>0</td>\n",
       "      <td>0</td>\n",
       "    </tr>\n",
       "    <tr>\n",
       "      <td>99998</td>\n",
       "      <td>PkGyUoDiDAyP901CecQT_A</td>\n",
       "      <td>Jason David</td>\n",
       "      <td>12</td>\n",
       "      <td>2013-06-21</td>\n",
       "      <td>0PY0WqON0l6HZg8N6YgKXQ, 9-lY-AKUleo_waR0-oNd0Q...</td>\n",
       "      <td>0</td>\n",
       "      <td>0</td>\n",
       "      <td>0</td>\n",
       "      <td>1</td>\n",
       "      <td>None</td>\n",
       "      <td>...</td>\n",
       "      <td>0</td>\n",
       "      <td>0</td>\n",
       "      <td>0</td>\n",
       "      <td>0</td>\n",
       "      <td>0</td>\n",
       "      <td>0</td>\n",
       "      <td>0</td>\n",
       "      <td>0</td>\n",
       "      <td>0</td>\n",
       "      <td>0</td>\n",
       "    </tr>\n",
       "  </tbody>\n",
       "</table>\n",
       "<p>99999 rows × 22 columns</p>\n",
       "</div>"
      ],
      "text/plain": [
       "                      user_id         name  review_count yelping_since  \\\n",
       "0      JJ-aSuM4pCFPdkfoZ34q0Q        Chris            10    2013-09-24   \n",
       "1      uUzsFQn_6cXDh6rPNGbIFA        Tiffy             1    2017-03-02   \n",
       "2      mBneaEEH5EMyxaVyqS-72A         Mark             6    2015-03-13   \n",
       "3      W5mJGs-dcDWRGEhAzUYtoA       Evelyn             3    2016-09-08   \n",
       "4      4E8--zUZO1Rr1IBK4_83fg         Lisa            11    2012-07-16   \n",
       "...                       ...          ...           ...           ...   \n",
       "99994  ljbv0JWIqo0UkLM3rRukyA       Andrew            34    2015-11-11   \n",
       "99995  iIxVkZmTWmdzFSjtiIYudw      Therese           103    2010-12-13   \n",
       "99996  iAoviaXKqg503AJD_DTCSA         Ryan             1    2016-05-28   \n",
       "99997  29YAiVLItU2eCxPOLG6xNQ      Caitlin            10    2015-05-15   \n",
       "99998  PkGyUoDiDAyP901CecQT_A  Jason David            12    2013-06-21   \n",
       "\n",
       "                                                 friends  useful  funny  cool  \\\n",
       "0      0njfJmB-7n84DlIgUByCNw, rFn3Xe3RqHxRSxWOU19Gpg...       0      0     0   \n",
       "1                                                   None       0      0     0   \n",
       "2                                                   None       0      0     0   \n",
       "3                                                   None       0      0     0   \n",
       "4                                                   None       4      0     0   \n",
       "...                                                  ...     ...    ...   ...   \n",
       "99994  wd0g1sdv0t_c3izP-dzwsA, 8iR3-iNYomnHJTmOW_YGdg...       0      0     0   \n",
       "99995  AWWHjw13FijOY7L6guq-0w, em_k4RLRpMIJnFitLNOybQ...      55     18    34   \n",
       "99996  611X1OIrUX9sMVi5L_EsQw, avLFGjrMz1BpO-gcD_qQ-g...       0      0     0   \n",
       "99997  DELW5OCaITr-3auajcGZNg, FArBkNs7UCu02v1hThwz6w...       0      0     0   \n",
       "99998  0PY0WqON0l6HZg8N6YgKXQ, 9-lY-AKUleo_waR0-oNd0Q...       0      0     0   \n",
       "\n",
       "       fans elite  ...  compliment_more  compliment_profile  compliment_cute  \\\n",
       "0         0  None  ...                0                   0                0   \n",
       "1         0  None  ...                0                   0                0   \n",
       "2         0  None  ...                0                   0                0   \n",
       "3         0  None  ...                0                   0                0   \n",
       "4         0  None  ...                0                   0                0   \n",
       "...     ...   ...  ...              ...                 ...              ...   \n",
       "99994     0  None  ...                0                   0                0   \n",
       "99995     6  2017  ...                0                   0                0   \n",
       "99996     0  None  ...                0                   0                0   \n",
       "99997     1  None  ...                1                   0                0   \n",
       "99998     1  None  ...                0                   0                0   \n",
       "\n",
       "       compliment_list  compliment_note  compliment_plain  compliment_cool  \\\n",
       "0                    0                0                 0                0   \n",
       "1                    0                0                 0                0   \n",
       "2                    0                0                 0                0   \n",
       "3                    0                0                 0                0   \n",
       "4                    0                0                 0                0   \n",
       "...                ...              ...               ...              ...   \n",
       "99994                0                0                 0                0   \n",
       "99995                0                6                 3               17   \n",
       "99996                0                0                 0                0   \n",
       "99997                0                0                 0                0   \n",
       "99998                0                0                 0                0   \n",
       "\n",
       "       compliment_funny  compliment_writer  compliment_photos  \n",
       "0                     0                  0                  0  \n",
       "1                     0                  0                  0  \n",
       "2                     0                  0                  0  \n",
       "3                     0                  0                  0  \n",
       "4                     0                  1                  0  \n",
       "...                 ...                ...                ...  \n",
       "99994                 0                  0                  0  \n",
       "99995                17                  1                  5  \n",
       "99996                 0                  0                  0  \n",
       "99997                 0                  0                  0  \n",
       "99998                 0                  0                  0  \n",
       "\n",
       "[99999 rows x 22 columns]"
      ]
     },
     "metadata": {},
     "output_type": "display_data"
    }
   ],
   "source": [
    "# Load the data from the csv and display it\n",
    "df = pd.read_csv(\"user.csv\",skiprows=1)\n",
    "display(df)"
   ]
  },
  {
   "cell_type": "markdown",
   "metadata": {},
   "source": [
    "## Initial analysis of the data\n",
    "\n",
    "Let's start by doing an initial analysis of the data with the help of an incredibly useful library, pandas_profiling.\n",
    "\n",
    "Look through the report and use it to understand the dataset better."
   ]
  },
  {
   "cell_type": "code",
   "execution_count": 52,
   "metadata": {},
   "outputs": [
    {
     "name": "stdout",
     "output_type": "stream",
     "text": [
      "<class 'pandas.core.frame.DataFrame'>\n",
      "RangeIndex: 99999 entries, 0 to 99998\n",
      "Data columns (total 22 columns):\n",
      "user_id               99999 non-null object\n",
      "name                  99966 non-null object\n",
      "review_count          99999 non-null int64\n",
      "yelping_since         99999 non-null object\n",
      "friends               99999 non-null object\n",
      "useful                99999 non-null int64\n",
      "funny                 99999 non-null int64\n",
      "cool                  99999 non-null int64\n",
      "fans                  99999 non-null int64\n",
      "elite                 99999 non-null object\n",
      "average_stars         99999 non-null float64\n",
      "compliment_hot        99999 non-null int64\n",
      "compliment_more       99999 non-null int64\n",
      "compliment_profile    99999 non-null int64\n",
      "compliment_cute       99999 non-null int64\n",
      "compliment_list       99999 non-null int64\n",
      "compliment_note       99999 non-null int64\n",
      "compliment_plain      99999 non-null int64\n",
      "compliment_cool       99999 non-null int64\n",
      "compliment_funny      99999 non-null int64\n",
      "compliment_writer     99999 non-null int64\n",
      "compliment_photos     99999 non-null int64\n",
      "dtypes: float64(1), int64(16), object(5)\n",
      "memory usage: 16.8+ MB\n"
     ]
    }
   ],
   "source": [
    "df.info()"
   ]
  },
  {
   "cell_type": "code",
   "execution_count": null,
   "metadata": {},
   "outputs": [],
   "source": []
  },
  {
   "cell_type": "code",
   "execution_count": 53,
   "metadata": {},
   "outputs": [],
   "source": [
    "#import pandas_profiling\n",
    "\n",
    "#df.profile_report(style={'full_width':True})"
   ]
  },
  {
   "cell_type": "code",
   "execution_count": null,
   "metadata": {},
   "outputs": [],
   "source": []
  },
  {
   "cell_type": "markdown",
   "metadata": {},
   "source": [
    "## Intro to Data Science with Python\n",
    "\n",
    "Python is a great language for Data Science, especially with the numerous libraries other users have made to easy your work. The most fundamental of these are numpy, pandas and matplotlib.\n",
    "\n",
    "\n",
    "### Pandas\n",
    "Data science is about numbers, and most often a lot of numbers. Typically, a data set consists of samples (different users in our dataset) and features (all the properties a user might have). Here, this data is loaded with the pandas-library and stored in a pandas DataFrame object, which is a very useful construct for manipulating large datasets.\n",
    "\n",
    "You can access different columns of the dataframe with the syntax df.column:"
   ]
  },
  {
   "cell_type": "code",
   "execution_count": 54,
   "metadata": {},
   "outputs": [
    {
     "data": {
      "text/plain": [
       "0     Chris\n",
       "1     Tiffy\n",
       "2      Mark\n",
       "3    Evelyn\n",
       "4      Lisa\n",
       "Name: name, dtype: object"
      ]
     },
     "execution_count": 54,
     "metadata": {},
     "output_type": "execute_result"
    }
   ],
   "source": [
    "# Access the 'name' column \n",
    "# .head(5) makes it only display the first five rows. \n",
    "# Try to remove it!\n",
    "df.name.head(5)"
   ]
  },
  {
   "cell_type": "markdown",
   "metadata": {},
   "source": [
    "Pandas also has access to powerful functions. For example, to find the mean and standard deviation of a numerical column, you can simply use:"
   ]
  },
  {
   "cell_type": "code",
   "execution_count": 55,
   "metadata": {},
   "outputs": [
    {
     "name": "stdout",
     "output_type": "stream",
     "text": [
      "Review count mean: 23.643306433064332\n",
      "Review count standard deviation: 76.60645829145511\n"
     ]
    }
   ],
   "source": [
    "print(\"Review count mean:\", df.review_count.mean())\n",
    "print(\"Review count standard deviation:\", df.review_count.std())"
   ]
  },
  {
   "cell_type": "markdown",
   "metadata": {},
   "source": [
    "If you wish to access multiple columns of a data frame, you can also use the following syntax:"
   ]
  },
  {
   "cell_type": "code",
   "execution_count": 56,
   "metadata": {},
   "outputs": [
    {
     "data": {
      "text/html": [
       "<div>\n",
       "<style scoped>\n",
       "    .dataframe tbody tr th:only-of-type {\n",
       "        vertical-align: middle;\n",
       "    }\n",
       "\n",
       "    .dataframe tbody tr th {\n",
       "        vertical-align: top;\n",
       "    }\n",
       "\n",
       "    .dataframe thead th {\n",
       "        text-align: right;\n",
       "    }\n",
       "</style>\n",
       "<table border=\"1\" class=\"dataframe\">\n",
       "  <thead>\n",
       "    <tr style=\"text-align: right;\">\n",
       "      <th></th>\n",
       "      <th>name</th>\n",
       "      <th>review_count</th>\n",
       "    </tr>\n",
       "  </thead>\n",
       "  <tbody>\n",
       "    <tr>\n",
       "      <td>0</td>\n",
       "      <td>Chris</td>\n",
       "      <td>10</td>\n",
       "    </tr>\n",
       "    <tr>\n",
       "      <td>1</td>\n",
       "      <td>Tiffy</td>\n",
       "      <td>1</td>\n",
       "    </tr>\n",
       "    <tr>\n",
       "      <td>2</td>\n",
       "      <td>Mark</td>\n",
       "      <td>6</td>\n",
       "    </tr>\n",
       "    <tr>\n",
       "      <td>3</td>\n",
       "      <td>Evelyn</td>\n",
       "      <td>3</td>\n",
       "    </tr>\n",
       "    <tr>\n",
       "      <td>4</td>\n",
       "      <td>Lisa</td>\n",
       "      <td>11</td>\n",
       "    </tr>\n",
       "  </tbody>\n",
       "</table>\n",
       "</div>"
      ],
      "text/plain": [
       "     name  review_count\n",
       "0   Chris            10\n",
       "1   Tiffy             1\n",
       "2    Mark             6\n",
       "3  Evelyn             3\n",
       "4    Lisa            11"
      ]
     },
     "execution_count": 56,
     "metadata": {},
     "output_type": "execute_result"
    }
   ],
   "source": [
    "df[['name', 'review_count']].head(5)"
   ]
  },
  {
   "cell_type": "markdown",
   "metadata": {},
   "source": [
    "You can find more examples of pandas usage here: https://pandas.pydata.org/pandas-docs/stable/getting_started/10min.html"
   ]
  },
  {
   "cell_type": "markdown",
   "metadata": {},
   "source": [
    "#### Exercise\n",
    "\n",
    "Find the number of users that have more than 10 reviews on the platform."
   ]
  },
  {
   "cell_type": "code",
   "execution_count": 57,
   "metadata": {},
   "outputs": [
    {
     "data": {
      "text/html": [
       "<div>\n",
       "<style scoped>\n",
       "    .dataframe tbody tr th:only-of-type {\n",
       "        vertical-align: middle;\n",
       "    }\n",
       "\n",
       "    .dataframe tbody tr th {\n",
       "        vertical-align: top;\n",
       "    }\n",
       "\n",
       "    .dataframe thead th {\n",
       "        text-align: right;\n",
       "    }\n",
       "</style>\n",
       "<table border=\"1\" class=\"dataframe\">\n",
       "  <thead>\n",
       "    <tr style=\"text-align: right;\">\n",
       "      <th></th>\n",
       "      <th>user_id</th>\n",
       "      <th>name</th>\n",
       "      <th>review_count</th>\n",
       "      <th>yelping_since</th>\n",
       "      <th>friends</th>\n",
       "      <th>useful</th>\n",
       "      <th>funny</th>\n",
       "      <th>cool</th>\n",
       "      <th>fans</th>\n",
       "      <th>elite</th>\n",
       "      <th>...</th>\n",
       "      <th>compliment_more</th>\n",
       "      <th>compliment_profile</th>\n",
       "      <th>compliment_cute</th>\n",
       "      <th>compliment_list</th>\n",
       "      <th>compliment_note</th>\n",
       "      <th>compliment_plain</th>\n",
       "      <th>compliment_cool</th>\n",
       "      <th>compliment_funny</th>\n",
       "      <th>compliment_writer</th>\n",
       "      <th>compliment_photos</th>\n",
       "    </tr>\n",
       "  </thead>\n",
       "  <tbody>\n",
       "    <tr>\n",
       "      <td>4</td>\n",
       "      <td>4E8--zUZO1Rr1IBK4_83fg</td>\n",
       "      <td>Lisa</td>\n",
       "      <td>11</td>\n",
       "      <td>2012-07-16</td>\n",
       "      <td>None</td>\n",
       "      <td>4</td>\n",
       "      <td>0</td>\n",
       "      <td>0</td>\n",
       "      <td>0</td>\n",
       "      <td>None</td>\n",
       "      <td>...</td>\n",
       "      <td>0</td>\n",
       "      <td>0</td>\n",
       "      <td>0</td>\n",
       "      <td>0</td>\n",
       "      <td>0</td>\n",
       "      <td>0</td>\n",
       "      <td>0</td>\n",
       "      <td>0</td>\n",
       "      <td>1</td>\n",
       "      <td>0</td>\n",
       "    </tr>\n",
       "    <tr>\n",
       "      <td>18</td>\n",
       "      <td>jYnkJR3T8yCERXywoVhWYA</td>\n",
       "      <td>Hugo</td>\n",
       "      <td>48</td>\n",
       "      <td>2010-07-06</td>\n",
       "      <td>hkXekeW_Jj6mIy8r8N7r1Q, dQDpV-VUtwYGqHznuRV-yw...</td>\n",
       "      <td>15</td>\n",
       "      <td>6</td>\n",
       "      <td>2</td>\n",
       "      <td>3</td>\n",
       "      <td>None</td>\n",
       "      <td>...</td>\n",
       "      <td>0</td>\n",
       "      <td>0</td>\n",
       "      <td>0</td>\n",
       "      <td>0</td>\n",
       "      <td>1</td>\n",
       "      <td>1</td>\n",
       "      <td>1</td>\n",
       "      <td>1</td>\n",
       "      <td>2</td>\n",
       "      <td>0</td>\n",
       "    </tr>\n",
       "    <tr>\n",
       "      <td>33</td>\n",
       "      <td>tMNryVdaICS7Vpm5ThNKIA</td>\n",
       "      <td>Alex</td>\n",
       "      <td>13</td>\n",
       "      <td>2014-05-27</td>\n",
       "      <td>None</td>\n",
       "      <td>0</td>\n",
       "      <td>0</td>\n",
       "      <td>0</td>\n",
       "      <td>1</td>\n",
       "      <td>None</td>\n",
       "      <td>...</td>\n",
       "      <td>0</td>\n",
       "      <td>0</td>\n",
       "      <td>0</td>\n",
       "      <td>0</td>\n",
       "      <td>0</td>\n",
       "      <td>2</td>\n",
       "      <td>1</td>\n",
       "      <td>1</td>\n",
       "      <td>0</td>\n",
       "      <td>0</td>\n",
       "    </tr>\n",
       "    <tr>\n",
       "      <td>44</td>\n",
       "      <td>fV8Yr0c5tFQTQ2SRRJHXHw</td>\n",
       "      <td>Michelle</td>\n",
       "      <td>50</td>\n",
       "      <td>2007-08-22</td>\n",
       "      <td>HDb4fBWIAQ-foS8qLJty9w, x0hBZsmBTYxhjjx0MShz1A...</td>\n",
       "      <td>43</td>\n",
       "      <td>12</td>\n",
       "      <td>5</td>\n",
       "      <td>1</td>\n",
       "      <td>2009</td>\n",
       "      <td>...</td>\n",
       "      <td>4</td>\n",
       "      <td>0</td>\n",
       "      <td>0</td>\n",
       "      <td>0</td>\n",
       "      <td>9</td>\n",
       "      <td>7</td>\n",
       "      <td>7</td>\n",
       "      <td>7</td>\n",
       "      <td>4</td>\n",
       "      <td>0</td>\n",
       "    </tr>\n",
       "    <tr>\n",
       "      <td>52</td>\n",
       "      <td>bZkZgll3Fii18x3WRtB5Lg</td>\n",
       "      <td>Dale</td>\n",
       "      <td>62</td>\n",
       "      <td>2010-01-06</td>\n",
       "      <td>None</td>\n",
       "      <td>0</td>\n",
       "      <td>0</td>\n",
       "      <td>0</td>\n",
       "      <td>2</td>\n",
       "      <td>None</td>\n",
       "      <td>...</td>\n",
       "      <td>1</td>\n",
       "      <td>0</td>\n",
       "      <td>0</td>\n",
       "      <td>0</td>\n",
       "      <td>1</td>\n",
       "      <td>0</td>\n",
       "      <td>1</td>\n",
       "      <td>1</td>\n",
       "      <td>0</td>\n",
       "      <td>0</td>\n",
       "    </tr>\n",
       "  </tbody>\n",
       "</table>\n",
       "<p>5 rows × 22 columns</p>\n",
       "</div>"
      ],
      "text/plain": [
       "                   user_id      name  review_count yelping_since  \\\n",
       "4   4E8--zUZO1Rr1IBK4_83fg      Lisa            11    2012-07-16   \n",
       "18  jYnkJR3T8yCERXywoVhWYA      Hugo            48    2010-07-06   \n",
       "33  tMNryVdaICS7Vpm5ThNKIA      Alex            13    2014-05-27   \n",
       "44  fV8Yr0c5tFQTQ2SRRJHXHw  Michelle            50    2007-08-22   \n",
       "52  bZkZgll3Fii18x3WRtB5Lg      Dale            62    2010-01-06   \n",
       "\n",
       "                                              friends  useful  funny  cool  \\\n",
       "4                                                None       4      0     0   \n",
       "18  hkXekeW_Jj6mIy8r8N7r1Q, dQDpV-VUtwYGqHznuRV-yw...      15      6     2   \n",
       "33                                               None       0      0     0   \n",
       "44  HDb4fBWIAQ-foS8qLJty9w, x0hBZsmBTYxhjjx0MShz1A...      43     12     5   \n",
       "52                                               None       0      0     0   \n",
       "\n",
       "    fans elite  ...  compliment_more  compliment_profile  compliment_cute  \\\n",
       "4      0  None  ...                0                   0                0   \n",
       "18     3  None  ...                0                   0                0   \n",
       "33     1  None  ...                0                   0                0   \n",
       "44     1  2009  ...                4                   0                0   \n",
       "52     2  None  ...                1                   0                0   \n",
       "\n",
       "    compliment_list  compliment_note  compliment_plain  compliment_cool  \\\n",
       "4                 0                0                 0                0   \n",
       "18                0                1                 1                1   \n",
       "33                0                0                 2                1   \n",
       "44                0                9                 7                7   \n",
       "52                0                1                 0                1   \n",
       "\n",
       "    compliment_funny  compliment_writer  compliment_photos  \n",
       "4                  0                  1                  0  \n",
       "18                 1                  2                  0  \n",
       "33                 1                  0                  0  \n",
       "44                 7                  4                  0  \n",
       "52                 1                  0                  0  \n",
       "\n",
       "[5 rows x 22 columns]"
      ]
     },
     "execution_count": 57,
     "metadata": {},
     "output_type": "execute_result"
    }
   ],
   "source": [
    "# Code here\n",
    "# Hint: You can index a dataframe with true/false values:\n",
    "# df[df.review_count > x]\n",
    "df_more10 = df[df.review_count >10]\n",
    "df_more10.head()\n"
   ]
  },
  {
   "cell_type": "markdown",
   "metadata": {},
   "source": [
    "### Numpy\n",
    "\n",
    "Numpy is a Python library for using and manipulating matrices. You can find some useful code and examples here: https://numpy.org/doc/1.17/user/quickstart.html.\n",
    "\n",
    "The fundamental construct in numpy is the np.array(), which can turn almost anything into a matrix. Consider the following example of list of lists in Python:"
   ]
  },
  {
   "cell_type": "code",
   "execution_count": 58,
   "metadata": {},
   "outputs": [
    {
     "data": {
      "text/plain": [
       "[[1, 2, 3], [4, 5, 6], [7, 8, 9]]"
      ]
     },
     "execution_count": 58,
     "metadata": {},
     "output_type": "execute_result"
    }
   ],
   "source": [
    "python_list = [[1,2,3], [4,5,6], [7,8,9]]\n",
    "python_list"
   ]
  },
  {
   "cell_type": "markdown",
   "metadata": {},
   "source": [
    "That looks like a matrix, but it is very difficult to manipulate well and efficiently using the basic Python list data type. Not to mention that most other libraries that are used to do data science with Python only accept pandas/numpy matrices. Thankfully, it is easy to to transform the above data into a numpy matrix:"
   ]
  },
  {
   "cell_type": "code",
   "execution_count": 59,
   "metadata": {},
   "outputs": [
    {
     "data": {
      "text/plain": [
       "array([[1, 2, 3],\n",
       "       [4, 5, 6],\n",
       "       [7, 8, 9]])"
      ]
     },
     "execution_count": 59,
     "metadata": {},
     "output_type": "execute_result"
    }
   ],
   "source": [
    "numpy_matrix = np.asarray(python_list)\n",
    "numpy_matrix"
   ]
  },
  {
   "cell_type": "markdown",
   "metadata": {},
   "source": [
    "One of the greatest features of numpy is its powerful indexing methods. You can access rows, columns and single numbers of a matrix in a simple manner:\n",
    "\n",
    "(Remember that matrices are indexed in row-major order, i.e. to access i'th rows j'th object, the syntax is matrix[i,j])"
   ]
  },
  {
   "cell_type": "code",
   "execution_count": 60,
   "metadata": {},
   "outputs": [
    {
     "name": "stdout",
     "output_type": "stream",
     "text": [
      "2nd row, 1st column number:\n",
      "8\n",
      "First row:\n",
      "[1 2 3]\n",
      "First column:\n",
      "[1 4 7]\n"
     ]
    }
   ],
   "source": [
    "# Get matrices 2nd row and 1st column\n",
    "print(\"2nd row, 1st column number:\")\n",
    "print(numpy_matrix[2,1])\n",
    "\n",
    "# Get first row of the matrix (: means slice, i.e. select all numbers)\n",
    "print(\"First row:\")\n",
    "print(numpy_matrix[0,:])\n",
    "\n",
    "# Get first column of the matrix\n",
    "print(\"First column:\")\n",
    "print(numpy_matrix[:,0])"
   ]
  },
  {
   "cell_type": "markdown",
   "metadata": {},
   "source": [
    "Pandas and numpy work well with each other. You can turn the above matrix into a pandas dataframe simply by"
   ]
  },
  {
   "cell_type": "code",
   "execution_count": 61,
   "metadata": {},
   "outputs": [
    {
     "data": {
      "text/html": [
       "<div>\n",
       "<style scoped>\n",
       "    .dataframe tbody tr th:only-of-type {\n",
       "        vertical-align: middle;\n",
       "    }\n",
       "\n",
       "    .dataframe tbody tr th {\n",
       "        vertical-align: top;\n",
       "    }\n",
       "\n",
       "    .dataframe thead th {\n",
       "        text-align: right;\n",
       "    }\n",
       "</style>\n",
       "<table border=\"1\" class=\"dataframe\">\n",
       "  <thead>\n",
       "    <tr style=\"text-align: right;\">\n",
       "      <th></th>\n",
       "      <th>first_col</th>\n",
       "      <th>second_col</th>\n",
       "      <th>third_col</th>\n",
       "    </tr>\n",
       "  </thead>\n",
       "  <tbody>\n",
       "    <tr>\n",
       "      <td>0</td>\n",
       "      <td>1</td>\n",
       "      <td>2</td>\n",
       "      <td>3</td>\n",
       "    </tr>\n",
       "    <tr>\n",
       "      <td>1</td>\n",
       "      <td>4</td>\n",
       "      <td>5</td>\n",
       "      <td>6</td>\n",
       "    </tr>\n",
       "    <tr>\n",
       "      <td>2</td>\n",
       "      <td>7</td>\n",
       "      <td>8</td>\n",
       "      <td>9</td>\n",
       "    </tr>\n",
       "  </tbody>\n",
       "</table>\n",
       "</div>"
      ],
      "text/plain": [
       "   first_col  second_col  third_col\n",
       "0          1           2          3\n",
       "1          4           5          6\n",
       "2          7           8          9"
      ]
     },
     "execution_count": 61,
     "metadata": {},
     "output_type": "execute_result"
    }
   ],
   "source": [
    "pd.DataFrame(numpy_matrix, columns=['first_col', 'second_col', 'third_col'])"
   ]
  },
  {
   "cell_type": "markdown",
   "metadata": {},
   "source": [
    "And other way round, you can turn pandas dataframe into a numpy matrix. Let's try it with our 'users' dataframe:"
   ]
  },
  {
   "cell_type": "code",
   "execution_count": 62,
   "metadata": {},
   "outputs": [
    {
     "data": {
      "text/plain": [
       "array([[10,  0,  0],\n",
       "       [ 1,  0,  0],\n",
       "       [ 6,  0,  0],\n",
       "       ...,\n",
       "       [ 1,  0,  0],\n",
       "       [10,  0,  0],\n",
       "       [12,  0,  0]], dtype=int64)"
      ]
     },
     "execution_count": 62,
     "metadata": {},
     "output_type": "execute_result"
    }
   ],
   "source": [
    "df[['review_count', 'useful', 'funny']].values"
   ]
  },
  {
   "cell_type": "markdown",
   "metadata": {},
   "source": [
    "As you can see, the tradeoff is that we lose a lot of useful information, but on the other hand get a nice matrix which is efficient to modify."
   ]
  },
  {
   "cell_type": "markdown",
   "metadata": {},
   "source": [
    "Like pandas, numpy has a large number of useful functions to get information about the matrix, like mean and standard deviation. "
   ]
  },
  {
   "cell_type": "code",
   "execution_count": 63,
   "metadata": {},
   "outputs": [
    {
     "name": "stdout",
     "output_type": "stream",
     "text": [
      "23.643306433064332\n",
      "592.5943321228746\n"
     ]
    }
   ],
   "source": [
    "tmp_data = df[['review_count', 'useful', 'funny']].values\n",
    "\n",
    "# Mean of first column\n",
    "print(np.mean(tmp_data[:,0]))\n",
    "\n",
    "# Standard deviation of second column:\n",
    "print(np.std(tmp_data[:,1]))"
   ]
  },
  {
   "cell_type": "markdown",
   "metadata": {},
   "source": [
    "Looks like the standard deviation of the 'useful' column is huge!"
   ]
  },
  {
   "cell_type": "markdown",
   "metadata": {},
   "source": [
    "#### Exercise\n",
    "\n",
    "Find the sum of all reviews!\n",
    "\n",
    "Hint: np.sum() function"
   ]
  },
  {
   "cell_type": "code",
   "execution_count": 64,
   "metadata": {},
   "outputs": [
    {
     "data": {
      "text/plain": [
       "2364307"
      ]
     },
     "execution_count": 64,
     "metadata": {},
     "output_type": "execute_result"
    }
   ],
   "source": [
    "# Enter code here\n",
    "np.sum(tmp_data[:,0])"
   ]
  },
  {
   "cell_type": "markdown",
   "metadata": {},
   "source": [
    "#### Exercise\n",
    "\n",
    "Find the mean median of the review count. What do these numbers tell you?\n",
    "\n",
    "Hint: np.median() function"
   ]
  },
  {
   "cell_type": "code",
   "execution_count": 65,
   "metadata": {},
   "outputs": [
    {
     "data": {
      "text/plain": [
       "5.0"
      ]
     },
     "execution_count": 65,
     "metadata": {},
     "output_type": "execute_result"
    }
   ],
   "source": [
    "# Enter code here\n",
    "np.median(tmp_data[:,0])"
   ]
  },
  {
   "cell_type": "markdown",
   "metadata": {},
   "source": [
    "### Pandas  indexing"
   ]
  },
  {
   "cell_type": "code",
   "execution_count": 66,
   "metadata": {},
   "outputs": [
    {
     "data": {
      "text/html": [
       "<div>\n",
       "<style scoped>\n",
       "    .dataframe tbody tr th:only-of-type {\n",
       "        vertical-align: middle;\n",
       "    }\n",
       "\n",
       "    .dataframe tbody tr th {\n",
       "        vertical-align: top;\n",
       "    }\n",
       "\n",
       "    .dataframe thead th {\n",
       "        text-align: right;\n",
       "    }\n",
       "</style>\n",
       "<table border=\"1\" class=\"dataframe\">\n",
       "  <thead>\n",
       "    <tr style=\"text-align: right;\">\n",
       "      <th></th>\n",
       "      <th>user_id</th>\n",
       "      <th>name</th>\n",
       "      <th>review_count</th>\n",
       "      <th>yelping_since</th>\n",
       "      <th>friends</th>\n",
       "      <th>useful</th>\n",
       "      <th>funny</th>\n",
       "      <th>cool</th>\n",
       "      <th>fans</th>\n",
       "      <th>elite</th>\n",
       "      <th>...</th>\n",
       "      <th>compliment_more</th>\n",
       "      <th>compliment_profile</th>\n",
       "      <th>compliment_cute</th>\n",
       "      <th>compliment_list</th>\n",
       "      <th>compliment_note</th>\n",
       "      <th>compliment_plain</th>\n",
       "      <th>compliment_cool</th>\n",
       "      <th>compliment_funny</th>\n",
       "      <th>compliment_writer</th>\n",
       "      <th>compliment_photos</th>\n",
       "    </tr>\n",
       "  </thead>\n",
       "  <tbody>\n",
       "    <tr>\n",
       "      <td>0</td>\n",
       "      <td>JJ-aSuM4pCFPdkfoZ34q0Q</td>\n",
       "      <td>Chris</td>\n",
       "      <td>10</td>\n",
       "      <td>2013-09-24</td>\n",
       "      <td>0njfJmB-7n84DlIgUByCNw, rFn3Xe3RqHxRSxWOU19Gpg...</td>\n",
       "      <td>0</td>\n",
       "      <td>0</td>\n",
       "      <td>0</td>\n",
       "      <td>0</td>\n",
       "      <td>None</td>\n",
       "      <td>...</td>\n",
       "      <td>0</td>\n",
       "      <td>0</td>\n",
       "      <td>0</td>\n",
       "      <td>0</td>\n",
       "      <td>0</td>\n",
       "      <td>0</td>\n",
       "      <td>0</td>\n",
       "      <td>0</td>\n",
       "      <td>0</td>\n",
       "      <td>0</td>\n",
       "    </tr>\n",
       "    <tr>\n",
       "      <td>1</td>\n",
       "      <td>uUzsFQn_6cXDh6rPNGbIFA</td>\n",
       "      <td>Tiffy</td>\n",
       "      <td>1</td>\n",
       "      <td>2017-03-02</td>\n",
       "      <td>None</td>\n",
       "      <td>0</td>\n",
       "      <td>0</td>\n",
       "      <td>0</td>\n",
       "      <td>0</td>\n",
       "      <td>None</td>\n",
       "      <td>...</td>\n",
       "      <td>0</td>\n",
       "      <td>0</td>\n",
       "      <td>0</td>\n",
       "      <td>0</td>\n",
       "      <td>0</td>\n",
       "      <td>0</td>\n",
       "      <td>0</td>\n",
       "      <td>0</td>\n",
       "      <td>0</td>\n",
       "      <td>0</td>\n",
       "    </tr>\n",
       "    <tr>\n",
       "      <td>2</td>\n",
       "      <td>mBneaEEH5EMyxaVyqS-72A</td>\n",
       "      <td>Mark</td>\n",
       "      <td>6</td>\n",
       "      <td>2015-03-13</td>\n",
       "      <td>None</td>\n",
       "      <td>0</td>\n",
       "      <td>0</td>\n",
       "      <td>0</td>\n",
       "      <td>0</td>\n",
       "      <td>None</td>\n",
       "      <td>...</td>\n",
       "      <td>0</td>\n",
       "      <td>0</td>\n",
       "      <td>0</td>\n",
       "      <td>0</td>\n",
       "      <td>0</td>\n",
       "      <td>0</td>\n",
       "      <td>0</td>\n",
       "      <td>0</td>\n",
       "      <td>0</td>\n",
       "      <td>0</td>\n",
       "    </tr>\n",
       "    <tr>\n",
       "      <td>3</td>\n",
       "      <td>W5mJGs-dcDWRGEhAzUYtoA</td>\n",
       "      <td>Evelyn</td>\n",
       "      <td>3</td>\n",
       "      <td>2016-09-08</td>\n",
       "      <td>None</td>\n",
       "      <td>0</td>\n",
       "      <td>0</td>\n",
       "      <td>0</td>\n",
       "      <td>0</td>\n",
       "      <td>None</td>\n",
       "      <td>...</td>\n",
       "      <td>0</td>\n",
       "      <td>0</td>\n",
       "      <td>0</td>\n",
       "      <td>0</td>\n",
       "      <td>0</td>\n",
       "      <td>0</td>\n",
       "      <td>0</td>\n",
       "      <td>0</td>\n",
       "      <td>0</td>\n",
       "      <td>0</td>\n",
       "    </tr>\n",
       "    <tr>\n",
       "      <td>4</td>\n",
       "      <td>4E8--zUZO1Rr1IBK4_83fg</td>\n",
       "      <td>Lisa</td>\n",
       "      <td>11</td>\n",
       "      <td>2012-07-16</td>\n",
       "      <td>None</td>\n",
       "      <td>4</td>\n",
       "      <td>0</td>\n",
       "      <td>0</td>\n",
       "      <td>0</td>\n",
       "      <td>None</td>\n",
       "      <td>...</td>\n",
       "      <td>0</td>\n",
       "      <td>0</td>\n",
       "      <td>0</td>\n",
       "      <td>0</td>\n",
       "      <td>0</td>\n",
       "      <td>0</td>\n",
       "      <td>0</td>\n",
       "      <td>0</td>\n",
       "      <td>1</td>\n",
       "      <td>0</td>\n",
       "    </tr>\n",
       "  </tbody>\n",
       "</table>\n",
       "<p>5 rows × 22 columns</p>\n",
       "</div>"
      ],
      "text/plain": [
       "                  user_id    name  review_count yelping_since  \\\n",
       "0  JJ-aSuM4pCFPdkfoZ34q0Q   Chris            10    2013-09-24   \n",
       "1  uUzsFQn_6cXDh6rPNGbIFA   Tiffy             1    2017-03-02   \n",
       "2  mBneaEEH5EMyxaVyqS-72A    Mark             6    2015-03-13   \n",
       "3  W5mJGs-dcDWRGEhAzUYtoA  Evelyn             3    2016-09-08   \n",
       "4  4E8--zUZO1Rr1IBK4_83fg    Lisa            11    2012-07-16   \n",
       "\n",
       "                                             friends  useful  funny  cool  \\\n",
       "0  0njfJmB-7n84DlIgUByCNw, rFn3Xe3RqHxRSxWOU19Gpg...       0      0     0   \n",
       "1                                               None       0      0     0   \n",
       "2                                               None       0      0     0   \n",
       "3                                               None       0      0     0   \n",
       "4                                               None       4      0     0   \n",
       "\n",
       "   fans elite  ...  compliment_more  compliment_profile  compliment_cute  \\\n",
       "0     0  None  ...                0                   0                0   \n",
       "1     0  None  ...                0                   0                0   \n",
       "2     0  None  ...                0                   0                0   \n",
       "3     0  None  ...                0                   0                0   \n",
       "4     0  None  ...                0                   0                0   \n",
       "\n",
       "   compliment_list  compliment_note  compliment_plain  compliment_cool  \\\n",
       "0                0                0                 0                0   \n",
       "1                0                0                 0                0   \n",
       "2                0                0                 0                0   \n",
       "3                0                0                 0                0   \n",
       "4                0                0                 0                0   \n",
       "\n",
       "   compliment_funny  compliment_writer  compliment_photos  \n",
       "0                 0                  0                  0  \n",
       "1                 0                  0                  0  \n",
       "2                 0                  0                  0  \n",
       "3                 0                  0                  0  \n",
       "4                 0                  1                  0  \n",
       "\n",
       "[5 rows x 22 columns]"
      ]
     },
     "execution_count": 66,
     "metadata": {},
     "output_type": "execute_result"
    }
   ],
   "source": [
    "df.head(5)"
   ]
  },
  {
   "cell_type": "markdown",
   "metadata": {},
   "source": [
    "Take a look at the first five items of the dataframe above. At the left, there is a rolling number starting from zero, which is the index of the row. Notice that if we take some subset of the data, for example all users with the name Chris, the index does not reset:"
   ]
  },
  {
   "cell_type": "code",
   "execution_count": 67,
   "metadata": {},
   "outputs": [
    {
     "data": {
      "text/html": [
       "<div>\n",
       "<style scoped>\n",
       "    .dataframe tbody tr th:only-of-type {\n",
       "        vertical-align: middle;\n",
       "    }\n",
       "\n",
       "    .dataframe tbody tr th {\n",
       "        vertical-align: top;\n",
       "    }\n",
       "\n",
       "    .dataframe thead th {\n",
       "        text-align: right;\n",
       "    }\n",
       "</style>\n",
       "<table border=\"1\" class=\"dataframe\">\n",
       "  <thead>\n",
       "    <tr style=\"text-align: right;\">\n",
       "      <th></th>\n",
       "      <th>user_id</th>\n",
       "      <th>name</th>\n",
       "      <th>review_count</th>\n",
       "      <th>yelping_since</th>\n",
       "      <th>friends</th>\n",
       "      <th>useful</th>\n",
       "      <th>funny</th>\n",
       "      <th>cool</th>\n",
       "      <th>fans</th>\n",
       "      <th>elite</th>\n",
       "      <th>...</th>\n",
       "      <th>compliment_more</th>\n",
       "      <th>compliment_profile</th>\n",
       "      <th>compliment_cute</th>\n",
       "      <th>compliment_list</th>\n",
       "      <th>compliment_note</th>\n",
       "      <th>compliment_plain</th>\n",
       "      <th>compliment_cool</th>\n",
       "      <th>compliment_funny</th>\n",
       "      <th>compliment_writer</th>\n",
       "      <th>compliment_photos</th>\n",
       "    </tr>\n",
       "  </thead>\n",
       "  <tbody>\n",
       "    <tr>\n",
       "      <td>0</td>\n",
       "      <td>JJ-aSuM4pCFPdkfoZ34q0Q</td>\n",
       "      <td>Chris</td>\n",
       "      <td>10</td>\n",
       "      <td>2013-09-24</td>\n",
       "      <td>0njfJmB-7n84DlIgUByCNw, rFn3Xe3RqHxRSxWOU19Gpg...</td>\n",
       "      <td>0</td>\n",
       "      <td>0</td>\n",
       "      <td>0</td>\n",
       "      <td>0</td>\n",
       "      <td>None</td>\n",
       "      <td>...</td>\n",
       "      <td>0</td>\n",
       "      <td>0</td>\n",
       "      <td>0</td>\n",
       "      <td>0</td>\n",
       "      <td>0</td>\n",
       "      <td>0</td>\n",
       "      <td>0</td>\n",
       "      <td>0</td>\n",
       "      <td>0</td>\n",
       "      <td>0</td>\n",
       "    </tr>\n",
       "    <tr>\n",
       "      <td>11</td>\n",
       "      <td>Mmv5fPxbF8XEMN4EPT_Khg</td>\n",
       "      <td>Chris</td>\n",
       "      <td>2</td>\n",
       "      <td>2016-06-24</td>\n",
       "      <td>None</td>\n",
       "      <td>0</td>\n",
       "      <td>0</td>\n",
       "      <td>0</td>\n",
       "      <td>0</td>\n",
       "      <td>None</td>\n",
       "      <td>...</td>\n",
       "      <td>0</td>\n",
       "      <td>0</td>\n",
       "      <td>0</td>\n",
       "      <td>0</td>\n",
       "      <td>0</td>\n",
       "      <td>0</td>\n",
       "      <td>0</td>\n",
       "      <td>0</td>\n",
       "      <td>0</td>\n",
       "      <td>0</td>\n",
       "    </tr>\n",
       "    <tr>\n",
       "      <td>181</td>\n",
       "      <td>HyrFKNe43hPHVFoFgZ7AuQ</td>\n",
       "      <td>Chris</td>\n",
       "      <td>22</td>\n",
       "      <td>2014-07-06</td>\n",
       "      <td>None</td>\n",
       "      <td>0</td>\n",
       "      <td>0</td>\n",
       "      <td>0</td>\n",
       "      <td>0</td>\n",
       "      <td>None</td>\n",
       "      <td>...</td>\n",
       "      <td>0</td>\n",
       "      <td>0</td>\n",
       "      <td>0</td>\n",
       "      <td>0</td>\n",
       "      <td>0</td>\n",
       "      <td>0</td>\n",
       "      <td>0</td>\n",
       "      <td>0</td>\n",
       "      <td>0</td>\n",
       "      <td>0</td>\n",
       "    </tr>\n",
       "    <tr>\n",
       "      <td>197</td>\n",
       "      <td>HnLtM53Ko1BY7DS737I06Q</td>\n",
       "      <td>Chris</td>\n",
       "      <td>2</td>\n",
       "      <td>2017-10-26</td>\n",
       "      <td>None</td>\n",
       "      <td>0</td>\n",
       "      <td>0</td>\n",
       "      <td>0</td>\n",
       "      <td>0</td>\n",
       "      <td>None</td>\n",
       "      <td>...</td>\n",
       "      <td>0</td>\n",
       "      <td>0</td>\n",
       "      <td>0</td>\n",
       "      <td>0</td>\n",
       "      <td>0</td>\n",
       "      <td>0</td>\n",
       "      <td>0</td>\n",
       "      <td>0</td>\n",
       "      <td>0</td>\n",
       "      <td>0</td>\n",
       "    </tr>\n",
       "    <tr>\n",
       "      <td>316</td>\n",
       "      <td>CAqTRA6o_19Bgresxn6R1w</td>\n",
       "      <td>Chris</td>\n",
       "      <td>16</td>\n",
       "      <td>2016-02-29</td>\n",
       "      <td>None</td>\n",
       "      <td>1</td>\n",
       "      <td>0</td>\n",
       "      <td>0</td>\n",
       "      <td>0</td>\n",
       "      <td>None</td>\n",
       "      <td>...</td>\n",
       "      <td>0</td>\n",
       "      <td>0</td>\n",
       "      <td>0</td>\n",
       "      <td>0</td>\n",
       "      <td>0</td>\n",
       "      <td>0</td>\n",
       "      <td>0</td>\n",
       "      <td>0</td>\n",
       "      <td>0</td>\n",
       "      <td>0</td>\n",
       "    </tr>\n",
       "    <tr>\n",
       "      <td>...</td>\n",
       "      <td>...</td>\n",
       "      <td>...</td>\n",
       "      <td>...</td>\n",
       "      <td>...</td>\n",
       "      <td>...</td>\n",
       "      <td>...</td>\n",
       "      <td>...</td>\n",
       "      <td>...</td>\n",
       "      <td>...</td>\n",
       "      <td>...</td>\n",
       "      <td>...</td>\n",
       "      <td>...</td>\n",
       "      <td>...</td>\n",
       "      <td>...</td>\n",
       "      <td>...</td>\n",
       "      <td>...</td>\n",
       "      <td>...</td>\n",
       "      <td>...</td>\n",
       "      <td>...</td>\n",
       "      <td>...</td>\n",
       "      <td>...</td>\n",
       "    </tr>\n",
       "    <tr>\n",
       "      <td>99914</td>\n",
       "      <td>yPr31e8JjIp0P2Qbt9yfcA</td>\n",
       "      <td>Chris</td>\n",
       "      <td>18</td>\n",
       "      <td>2011-08-09</td>\n",
       "      <td>None</td>\n",
       "      <td>6</td>\n",
       "      <td>4</td>\n",
       "      <td>0</td>\n",
       "      <td>0</td>\n",
       "      <td>None</td>\n",
       "      <td>...</td>\n",
       "      <td>0</td>\n",
       "      <td>0</td>\n",
       "      <td>0</td>\n",
       "      <td>0</td>\n",
       "      <td>0</td>\n",
       "      <td>0</td>\n",
       "      <td>0</td>\n",
       "      <td>0</td>\n",
       "      <td>0</td>\n",
       "      <td>0</td>\n",
       "    </tr>\n",
       "    <tr>\n",
       "      <td>99960</td>\n",
       "      <td>tBtOjMnVjy7Kq-CPx67w_g</td>\n",
       "      <td>Chris</td>\n",
       "      <td>30</td>\n",
       "      <td>2011-02-18</td>\n",
       "      <td>a6c7hXreFMWjVcoiNNiljg, 402n5ZGvXa7XWjDAn6uhfg...</td>\n",
       "      <td>27</td>\n",
       "      <td>3</td>\n",
       "      <td>3</td>\n",
       "      <td>1</td>\n",
       "      <td>None</td>\n",
       "      <td>...</td>\n",
       "      <td>0</td>\n",
       "      <td>0</td>\n",
       "      <td>0</td>\n",
       "      <td>0</td>\n",
       "      <td>0</td>\n",
       "      <td>0</td>\n",
       "      <td>1</td>\n",
       "      <td>1</td>\n",
       "      <td>0</td>\n",
       "      <td>0</td>\n",
       "    </tr>\n",
       "    <tr>\n",
       "      <td>99971</td>\n",
       "      <td>HsvDWPLp85FynWE0gHPi9g</td>\n",
       "      <td>Chris</td>\n",
       "      <td>48</td>\n",
       "      <td>2012-05-04</td>\n",
       "      <td>BQJfh_mpfVb1_sRkB-Qo1A, q2odRqeOvAQVlN2LGM1nvA...</td>\n",
       "      <td>50</td>\n",
       "      <td>2</td>\n",
       "      <td>8</td>\n",
       "      <td>0</td>\n",
       "      <td>None</td>\n",
       "      <td>...</td>\n",
       "      <td>0</td>\n",
       "      <td>0</td>\n",
       "      <td>0</td>\n",
       "      <td>0</td>\n",
       "      <td>3</td>\n",
       "      <td>2</td>\n",
       "      <td>0</td>\n",
       "      <td>0</td>\n",
       "      <td>0</td>\n",
       "      <td>2</td>\n",
       "    </tr>\n",
       "    <tr>\n",
       "      <td>99977</td>\n",
       "      <td>R-Zw2sDjxW0Ue6wuGky3YA</td>\n",
       "      <td>Chris</td>\n",
       "      <td>3</td>\n",
       "      <td>2010-03-09</td>\n",
       "      <td>XscY1qb7FJSVgntLZIm-iA, q50PWB-QR1YCHa60kagzgw...</td>\n",
       "      <td>2</td>\n",
       "      <td>3</td>\n",
       "      <td>2</td>\n",
       "      <td>0</td>\n",
       "      <td>None</td>\n",
       "      <td>...</td>\n",
       "      <td>0</td>\n",
       "      <td>0</td>\n",
       "      <td>0</td>\n",
       "      <td>0</td>\n",
       "      <td>0</td>\n",
       "      <td>0</td>\n",
       "      <td>0</td>\n",
       "      <td>0</td>\n",
       "      <td>0</td>\n",
       "      <td>0</td>\n",
       "    </tr>\n",
       "    <tr>\n",
       "      <td>99992</td>\n",
       "      <td>nL2Wyj9xEJgRYtOz2hP5Gg</td>\n",
       "      <td>Chris</td>\n",
       "      <td>31</td>\n",
       "      <td>2010-07-14</td>\n",
       "      <td>KCJ0vKgdxGDPkgFjzdBcoQ, OFvGD96URSkwjhjNog9YVQ...</td>\n",
       "      <td>8</td>\n",
       "      <td>0</td>\n",
       "      <td>0</td>\n",
       "      <td>0</td>\n",
       "      <td>None</td>\n",
       "      <td>...</td>\n",
       "      <td>0</td>\n",
       "      <td>0</td>\n",
       "      <td>0</td>\n",
       "      <td>0</td>\n",
       "      <td>0</td>\n",
       "      <td>0</td>\n",
       "      <td>0</td>\n",
       "      <td>0</td>\n",
       "      <td>0</td>\n",
       "      <td>0</td>\n",
       "    </tr>\n",
       "  </tbody>\n",
       "</table>\n",
       "<p>734 rows × 22 columns</p>\n",
       "</div>"
      ],
      "text/plain": [
       "                      user_id   name  review_count yelping_since  \\\n",
       "0      JJ-aSuM4pCFPdkfoZ34q0Q  Chris            10    2013-09-24   \n",
       "11     Mmv5fPxbF8XEMN4EPT_Khg  Chris             2    2016-06-24   \n",
       "181    HyrFKNe43hPHVFoFgZ7AuQ  Chris            22    2014-07-06   \n",
       "197    HnLtM53Ko1BY7DS737I06Q  Chris             2    2017-10-26   \n",
       "316    CAqTRA6o_19Bgresxn6R1w  Chris            16    2016-02-29   \n",
       "...                       ...    ...           ...           ...   \n",
       "99914  yPr31e8JjIp0P2Qbt9yfcA  Chris            18    2011-08-09   \n",
       "99960  tBtOjMnVjy7Kq-CPx67w_g  Chris            30    2011-02-18   \n",
       "99971  HsvDWPLp85FynWE0gHPi9g  Chris            48    2012-05-04   \n",
       "99977  R-Zw2sDjxW0Ue6wuGky3YA  Chris             3    2010-03-09   \n",
       "99992  nL2Wyj9xEJgRYtOz2hP5Gg  Chris            31    2010-07-14   \n",
       "\n",
       "                                                 friends  useful  funny  cool  \\\n",
       "0      0njfJmB-7n84DlIgUByCNw, rFn3Xe3RqHxRSxWOU19Gpg...       0      0     0   \n",
       "11                                                  None       0      0     0   \n",
       "181                                                 None       0      0     0   \n",
       "197                                                 None       0      0     0   \n",
       "316                                                 None       1      0     0   \n",
       "...                                                  ...     ...    ...   ...   \n",
       "99914                                               None       6      4     0   \n",
       "99960  a6c7hXreFMWjVcoiNNiljg, 402n5ZGvXa7XWjDAn6uhfg...      27      3     3   \n",
       "99971  BQJfh_mpfVb1_sRkB-Qo1A, q2odRqeOvAQVlN2LGM1nvA...      50      2     8   \n",
       "99977  XscY1qb7FJSVgntLZIm-iA, q50PWB-QR1YCHa60kagzgw...       2      3     2   \n",
       "99992  KCJ0vKgdxGDPkgFjzdBcoQ, OFvGD96URSkwjhjNog9YVQ...       8      0     0   \n",
       "\n",
       "       fans elite  ...  compliment_more  compliment_profile  compliment_cute  \\\n",
       "0         0  None  ...                0                   0                0   \n",
       "11        0  None  ...                0                   0                0   \n",
       "181       0  None  ...                0                   0                0   \n",
       "197       0  None  ...                0                   0                0   \n",
       "316       0  None  ...                0                   0                0   \n",
       "...     ...   ...  ...              ...                 ...              ...   \n",
       "99914     0  None  ...                0                   0                0   \n",
       "99960     1  None  ...                0                   0                0   \n",
       "99971     0  None  ...                0                   0                0   \n",
       "99977     0  None  ...                0                   0                0   \n",
       "99992     0  None  ...                0                   0                0   \n",
       "\n",
       "       compliment_list  compliment_note  compliment_plain  compliment_cool  \\\n",
       "0                    0                0                 0                0   \n",
       "11                   0                0                 0                0   \n",
       "181                  0                0                 0                0   \n",
       "197                  0                0                 0                0   \n",
       "316                  0                0                 0                0   \n",
       "...                ...              ...               ...              ...   \n",
       "99914                0                0                 0                0   \n",
       "99960                0                0                 0                1   \n",
       "99971                0                3                 2                0   \n",
       "99977                0                0                 0                0   \n",
       "99992                0                0                 0                0   \n",
       "\n",
       "       compliment_funny  compliment_writer  compliment_photos  \n",
       "0                     0                  0                  0  \n",
       "11                    0                  0                  0  \n",
       "181                   0                  0                  0  \n",
       "197                   0                  0                  0  \n",
       "316                   0                  0                  0  \n",
       "...                 ...                ...                ...  \n",
       "99914                 0                  0                  0  \n",
       "99960                 1                  0                  0  \n",
       "99971                 0                  0                  2  \n",
       "99977                 0                  0                  0  \n",
       "99992                 0                  0                  0  \n",
       "\n",
       "[734 rows x 22 columns]"
      ]
     },
     "execution_count": 67,
     "metadata": {},
     "output_type": "execute_result"
    }
   ],
   "source": [
    "df[df.name == 'Chris']"
   ]
  },
  {
   "cell_type": "markdown",
   "metadata": {},
   "source": [
    "This is very useful, as you always know what row you are dealing with in the original dataframe even if you are working with a subset of the data. However, this makes pandas indexing sometimes a bit confusing. If you wish to get a certain item in a dataframe, you have to use the .iloc function:"
   ]
  },
  {
   "cell_type": "code",
   "execution_count": 68,
   "metadata": {},
   "outputs": [
    {
     "data": {
      "text/plain": [
       "user_id               Mmv5fPxbF8XEMN4EPT_Khg\n",
       "name                                   Chris\n",
       "review_count                               2\n",
       "yelping_since                     2016-06-24\n",
       "friends                                 None\n",
       "useful                                     0\n",
       "funny                                      0\n",
       "cool                                       0\n",
       "fans                                       0\n",
       "elite                                   None\n",
       "average_stars                           1.67\n",
       "compliment_hot                             0\n",
       "compliment_more                            0\n",
       "compliment_profile                         0\n",
       "compliment_cute                            0\n",
       "compliment_list                            0\n",
       "compliment_note                            0\n",
       "compliment_plain                           0\n",
       "compliment_cool                            0\n",
       "compliment_funny                           0\n",
       "compliment_writer                          0\n",
       "compliment_photos                          0\n",
       "Name: 11, dtype: object"
      ]
     },
     "execution_count": 68,
     "metadata": {},
     "output_type": "execute_result"
    }
   ],
   "source": [
    "# Access certain index in the df:\n",
    "df.iloc[11]"
   ]
  },
  {
   "cell_type": "code",
   "execution_count": 69,
   "metadata": {},
   "outputs": [
    {
     "data": {
      "text/plain": [
       "user_id                                          ABnqflUIsx4CRHv7ckUMOA\n",
       "name                                                              Chris\n",
       "review_count                                                          4\n",
       "yelping_since                                                2013-08-17\n",
       "friends               E7zeUWsaiAGyQk1aDwn72Q, cBNfp7PTPlO-fkKFvFYm7w...\n",
       "useful                                                                0\n",
       "funny                                                                 0\n",
       "cool                                                                  0\n",
       "fans                                                                  0\n",
       "elite                                                              None\n",
       "average_stars                                                       3.4\n",
       "compliment_hot                                                        0\n",
       "compliment_more                                                       0\n",
       "compliment_profile                                                    0\n",
       "compliment_cute                                                       0\n",
       "compliment_list                                                       0\n",
       "compliment_note                                                       0\n",
       "compliment_plain                                                      0\n",
       "compliment_cool                                                       0\n",
       "compliment_funny                                                      0\n",
       "compliment_writer                                                     0\n",
       "compliment_photos                                                     0\n",
       "Name: 980, dtype: object"
      ]
     },
     "execution_count": 69,
     "metadata": {},
     "output_type": "execute_result"
    }
   ],
   "source": [
    "# The same iloc in the subset:\n",
    "df[df.name == 'Chris'].iloc[11]"
   ]
  },
  {
   "cell_type": "markdown",
   "metadata": {},
   "source": [
    "#### Exercise\n",
    "\n",
    "Find the user with the highest number of reviews! \n",
    "\n",
    "Hint: You first need to find the row # with the largest number of reviews and then access it with .iloc[]\n",
    "\n",
    "Hint 2: numpy has an interesting function called [argmax](https://docs.scipy.org/doc/numpy/reference/generated/numpy.argmax.html)."
   ]
  },
  {
   "cell_type": "code",
   "execution_count": 70,
   "metadata": {},
   "outputs": [
    {
     "name": "stderr",
     "output_type": "stream",
     "text": [
      "C:\\Users\\dmitr\\Anaconda3\\lib\\site-packages\\numpy\\core\\fromnumeric.py:56: FutureWarning: \n",
      "The current behaviour of 'Series.argmax' is deprecated, use 'idxmax'\n",
      "instead.\n",
      "The behavior of 'argmax' will be corrected to return the positional\n",
      "maximum in the future. For now, use 'series.values.argmax' or\n",
      "'np.argmax(np.array(values))' to get the position of the maximum\n",
      "row.\n",
      "  return getattr(obj, method)(*args, **kwds)\n"
     ]
    },
    {
     "data": {
      "text/plain": [
       "user_id                                          E_GAXhVA1_lVC2aFpMQElA\n",
       "name                                                              Alden\n",
       "review_count                                                       3468\n",
       "yelping_since                                                2009-09-03\n",
       "friends               7ZauzmeTHuR-8FqnmJbOtA, yFcfowj9X6C6zNd6nqK8aQ...\n",
       "useful                                                              183\n",
       "funny                                                               145\n",
       "cool                                                                 84\n",
       "fans                                                                215\n",
       "elite                                            2016, 2014, 2017, 2015\n",
       "average_stars                                                      3.74\n",
       "compliment_hot                                                       74\n",
       "compliment_more                                                      21\n",
       "compliment_profile                                                   34\n",
       "compliment_cute                                                       9\n",
       "compliment_list                                                       2\n",
       "compliment_note                                                     191\n",
       "compliment_plain                                                    271\n",
       "compliment_cool                                                     310\n",
       "compliment_funny                                                    310\n",
       "compliment_writer                                                   158\n",
       "compliment_photos                                                    47\n",
       "Name: 48445, dtype: object"
      ]
     },
     "execution_count": 70,
     "metadata": {},
     "output_type": "execute_result"
    }
   ],
   "source": [
    "# Code here\n",
    "np.argmax(df.review_count)\n",
    "df.iloc[48445]"
   ]
  },
  {
   "cell_type": "markdown",
   "metadata": {},
   "source": [
    "### Matplotlib\n",
    "\n",
    "Matplotlib is a plotting library for Python. It allows us to visualize the dataset, an indispensable tool for Data Science work. Find the documentation here: https://matplotlib.org/tutorials/introductory/usage.html#sphx-glr-tutorials-introductory-usage-py.\n",
    "\n",
    "The basic syntax of matplotlib is simple. You give it data on x- and y-axis, and it plots it. You can choose between many different plot types, but most often you want to use line plot (plt.plot) or scatter plot (plt.scatter). Let's look at how you might construct such a plot."
   ]
  },
  {
   "cell_type": "code",
   "execution_count": 71,
   "metadata": {},
   "outputs": [
    {
     "data": {
      "text/plain": [
       "Text(0, 0.5, 'Average stars')"
      ]
     },
     "execution_count": 71,
     "metadata": {},
     "output_type": "execute_result"
    },
    {
     "data": {
      "image/png": "[encoded data removed]",
      "text/plain": [
       "<Figure size 432x288 with 1 Axes>"
      ]
     },
     "metadata": {
      "needs_background": "light"
     },
     "output_type": "display_data"
    }
   ],
   "source": [
    "plt.figure()\n",
    "plt.scatter(df.review_count, df.average_stars)\n",
    "plt.xlabel('Review count')\n",
    "plt.ylabel('Average stars')"
   ]
  },
  {
   "cell_type": "markdown",
   "metadata": {},
   "source": [
    "#### Exercise\n",
    "\n",
    "Plot a histogram of a numerical column of your choice. For example, to find if the star rating is skewed, plot the df.average_stars column.\n",
    "\n",
    "Hint: plt.hist()"
   ]
  },
  {
   "cell_type": "code",
   "execution_count": 72,
   "metadata": {},
   "outputs": [
    {
     "data": {
      "text/plain": [
       "(array([ 7375.,  1048.,  2903.,  3563.,  3747., 12668., 14682., 16179.,\n",
       "        11754., 26080.]),\n",
       " array([1. , 1.4, 1.8, 2.2, 2.6, 3. , 3.4, 3.8, 4.2, 4.6, 5. ]),\n",
       " <a list of 10 Patch objects>)"
      ]
     },
     "execution_count": 72,
     "metadata": {},
     "output_type": "execute_result"
    },
    {
     "data": {
      "image/png": "[encoded data removed]",
      "text/plain": [
       "<Figure size 432x288 with 1 Axes>"
      ]
     },
     "metadata": {
      "needs_background": "light"
     },
     "output_type": "display_data"
    }
   ],
   "source": [
    "# Code here\n",
    "plt.figure()\n",
    "plt.hist(df.average_stars)\n"
   ]
  },
  {
   "cell_type": "markdown",
   "metadata": {},
   "source": [
    "#### Exercise\n",
    "\n",
    "To find out the correlations between variables, plot a correlation matrix. You can use pandas function df.corr() to get the correlation matrix, and plt.matshow() function to plot it. If you want more colors, you can change the color map in the plotting function with argument cmap='jet'.\n",
    "\n",
    "Take a look at the correlation plot and try to reason about it. Which variables are highly correlated? Which are not? What does this tell you about the review process?"
   ]
  },
  {
   "cell_type": "code",
   "execution_count": 73,
   "metadata": {},
   "outputs": [
    {
     "data": {
      "text/plain": [
       "<Figure size 720x720 with 0 Axes>"
      ]
     },
     "metadata": {},
     "output_type": "display_data"
    },
    {
     "data": {
      "image/png": "[encoded data removed]",
      "text/plain": [
       "<Figure size 288x288 with 1 Axes>"
      ]
     },
     "metadata": {
      "needs_background": "light"
     },
     "output_type": "display_data"
    }
   ],
   "source": [
    "%matplotlib inline\n",
    "plt.figure(figsize=(10,10))\n",
    "\n",
    "# Plotting code here\n",
    "\n",
    "plt.matshow(df.corr());\n",
    "\n",
    "plt.xticks(np.arange(0,len(df.corr().columns)), df.columns, rotation='vertical')\n",
    "plt.yticks(np.arange(0,len(df.corr().columns)), df.columns)\n",
    "plt.show();"
   ]
  },
  {
   "cell_type": "markdown",
   "metadata": {},
   "source": [
    "### Visualizing with Principal component analysis\n",
    "\n",
    "It is difficult to visualize a dataset with so many variables. We would like to see the complete dataset in a 2D scatter plot, but there are 16 features, requiring a 16 dimensional plot. This is impossible, so we need to reduce the dimensions somehow.\n",
    "\n",
    "A tool often used by data scientists is the principal component analysis (PCA), which tries to represent the data using fewer features by projecting dimensions to the direction of their variance. If you want to know more, check wikipedia or this link: https://www.dezyre.com/data-science-in-python-tutorial/principal-component-analysis-tutorial\n",
    "\n",
    "Here, we'll use pca to reduce the dimensions to just two, which we can plot. We use sklearn's prebuilt PCA function to calculate the values."
   ]
  },
  {
   "cell_type": "code",
   "execution_count": 74,
   "metadata": {},
   "outputs": [],
   "source": [
    "from sklearn.decomposition import PCA\n",
    "\n",
    "# Grab the numerical features of the dataset for simplicity\n",
    "numerical_data = df.select_dtypes(include=[np.number])\n",
    "\n",
    "pca = PCA(n_components=2)\n",
    "data_transformed = pca.fit_transform(numerical_data)"
   ]
  },
  {
   "cell_type": "code",
   "execution_count": 75,
   "metadata": {},
   "outputs": [
    {
     "data": {
      "text/plain": [
       "(99999, 2)"
      ]
     },
     "execution_count": 75,
     "metadata": {},
     "output_type": "execute_result"
    }
   ],
   "source": [
    "data_transformed.shape"
   ]
  },
  {
   "cell_type": "markdown",
   "metadata": {},
   "source": [
    "### Exercise\n",
    "\n",
    "The data_transformed now only has two dimensions. Plot them in a 2D scatter plot! You need to use the numpy indexing to select one column and all rows as x-axis and the second column and all its rows as the y-axis.\n",
    "\n",
    "Extra: Color the dots with their average star rating!\n",
    "\n",
    "Extra 2: There are some outliers in the data, making analysis difficult. Try to identify and remove them!"
   ]
  },
  {
   "cell_type": "code",
   "execution_count": 76,
   "metadata": {},
   "outputs": [
    {
     "data": {
      "image/png": "[encoded data removed]",
      "text/plain": [
       "<Figure size 720x720 with 1 Axes>"
      ]
     },
     "metadata": {
      "needs_background": "light"
     },
     "output_type": "display_data"
    }
   ],
   "source": [
    "plt.figure(figsize=(10,10))\n",
    "\n",
    "# Code here\n",
    "\n",
    "\n",
    "plt.scatter(data_transformed[:,0], data_transformed[:,1])\n",
    "\n",
    "\n",
    "plt.xlabel('First principal component')\n",
    "plt.ylabel('Second principal component')\n",
    "plt.show()"
   ]
  },
  {
   "cell_type": "markdown",
   "metadata": {},
   "source": [
    "Try to see if there are any clusters or other structure in the data. This helps you to understand what is actually happening in the data."
   ]
  },
  {
   "cell_type": "markdown",
   "metadata": {},
   "source": [
    "## SKLearn\n",
    "\n",
    "Alright, so you can now handle even large datasets and extract useful information about it. But, you say, I want to know what rating a user will give in advance! Well, you are in the right place to learn about that. \n",
    "\n",
    "What we will do is to predict the user's average star rating based on the other features the user has. Let's start by grabbing all the numerical columns in the dataset (we'll skip the non-numerical ones in this exercise)."
   ]
  },
  {
   "cell_type": "code",
   "execution_count": 77,
   "metadata": {},
   "outputs": [
    {
     "data": {
      "text/html": [
       "<div>\n",
       "<style scoped>\n",
       "    .dataframe tbody tr th:only-of-type {\n",
       "        vertical-align: middle;\n",
       "    }\n",
       "\n",
       "    .dataframe tbody tr th {\n",
       "        vertical-align: top;\n",
       "    }\n",
       "\n",
       "    .dataframe thead th {\n",
       "        text-align: right;\n",
       "    }\n",
       "</style>\n",
       "<table border=\"1\" class=\"dataframe\">\n",
       "  <thead>\n",
       "    <tr style=\"text-align: right;\">\n",
       "      <th></th>\n",
       "      <th>review_count</th>\n",
       "      <th>useful</th>\n",
       "      <th>funny</th>\n",
       "      <th>cool</th>\n",
       "      <th>fans</th>\n",
       "      <th>average_stars</th>\n",
       "      <th>compliment_hot</th>\n",
       "      <th>compliment_more</th>\n",
       "      <th>compliment_profile</th>\n",
       "      <th>compliment_cute</th>\n",
       "      <th>compliment_list</th>\n",
       "      <th>compliment_note</th>\n",
       "      <th>compliment_plain</th>\n",
       "      <th>compliment_cool</th>\n",
       "      <th>compliment_funny</th>\n",
       "      <th>compliment_writer</th>\n",
       "      <th>compliment_photos</th>\n",
       "    </tr>\n",
       "  </thead>\n",
       "  <tbody>\n",
       "    <tr>\n",
       "      <td>0</td>\n",
       "      <td>10</td>\n",
       "      <td>0</td>\n",
       "      <td>0</td>\n",
       "      <td>0</td>\n",
       "      <td>0</td>\n",
       "      <td>3.70</td>\n",
       "      <td>0</td>\n",
       "      <td>0</td>\n",
       "      <td>0</td>\n",
       "      <td>0</td>\n",
       "      <td>0</td>\n",
       "      <td>0</td>\n",
       "      <td>0</td>\n",
       "      <td>0</td>\n",
       "      <td>0</td>\n",
       "      <td>0</td>\n",
       "      <td>0</td>\n",
       "    </tr>\n",
       "    <tr>\n",
       "      <td>1</td>\n",
       "      <td>1</td>\n",
       "      <td>0</td>\n",
       "      <td>0</td>\n",
       "      <td>0</td>\n",
       "      <td>0</td>\n",
       "      <td>2.00</td>\n",
       "      <td>0</td>\n",
       "      <td>0</td>\n",
       "      <td>0</td>\n",
       "      <td>0</td>\n",
       "      <td>0</td>\n",
       "      <td>0</td>\n",
       "      <td>0</td>\n",
       "      <td>0</td>\n",
       "      <td>0</td>\n",
       "      <td>0</td>\n",
       "      <td>0</td>\n",
       "    </tr>\n",
       "    <tr>\n",
       "      <td>2</td>\n",
       "      <td>6</td>\n",
       "      <td>0</td>\n",
       "      <td>0</td>\n",
       "      <td>0</td>\n",
       "      <td>0</td>\n",
       "      <td>4.67</td>\n",
       "      <td>0</td>\n",
       "      <td>0</td>\n",
       "      <td>0</td>\n",
       "      <td>0</td>\n",
       "      <td>0</td>\n",
       "      <td>0</td>\n",
       "      <td>0</td>\n",
       "      <td>0</td>\n",
       "      <td>0</td>\n",
       "      <td>0</td>\n",
       "      <td>0</td>\n",
       "    </tr>\n",
       "    <tr>\n",
       "      <td>3</td>\n",
       "      <td>3</td>\n",
       "      <td>0</td>\n",
       "      <td>0</td>\n",
       "      <td>0</td>\n",
       "      <td>0</td>\n",
       "      <td>4.67</td>\n",
       "      <td>0</td>\n",
       "      <td>0</td>\n",
       "      <td>0</td>\n",
       "      <td>0</td>\n",
       "      <td>0</td>\n",
       "      <td>0</td>\n",
       "      <td>0</td>\n",
       "      <td>0</td>\n",
       "      <td>0</td>\n",
       "      <td>0</td>\n",
       "      <td>0</td>\n",
       "    </tr>\n",
       "    <tr>\n",
       "      <td>4</td>\n",
       "      <td>11</td>\n",
       "      <td>4</td>\n",
       "      <td>0</td>\n",
       "      <td>0</td>\n",
       "      <td>0</td>\n",
       "      <td>3.45</td>\n",
       "      <td>0</td>\n",
       "      <td>0</td>\n",
       "      <td>0</td>\n",
       "      <td>0</td>\n",
       "      <td>0</td>\n",
       "      <td>0</td>\n",
       "      <td>0</td>\n",
       "      <td>0</td>\n",
       "      <td>0</td>\n",
       "      <td>1</td>\n",
       "      <td>0</td>\n",
       "    </tr>\n",
       "  </tbody>\n",
       "</table>\n",
       "</div>"
      ],
      "text/plain": [
       "   review_count  useful  funny  cool  fans  average_stars  compliment_hot  \\\n",
       "0            10       0      0     0     0           3.70               0   \n",
       "1             1       0      0     0     0           2.00               0   \n",
       "2             6       0      0     0     0           4.67               0   \n",
       "3             3       0      0     0     0           4.67               0   \n",
       "4            11       4      0     0     0           3.45               0   \n",
       "\n",
       "   compliment_more  compliment_profile  compliment_cute  compliment_list  \\\n",
       "0                0                   0                0                0   \n",
       "1                0                   0                0                0   \n",
       "2                0                   0                0                0   \n",
       "3                0                   0                0                0   \n",
       "4                0                   0                0                0   \n",
       "\n",
       "   compliment_note  compliment_plain  compliment_cool  compliment_funny  \\\n",
       "0                0                 0                0                 0   \n",
       "1                0                 0                0                 0   \n",
       "2                0                 0                0                 0   \n",
       "3                0                 0                0                 0   \n",
       "4                0                 0                0                 0   \n",
       "\n",
       "   compliment_writer  compliment_photos  \n",
       "0                  0                  0  \n",
       "1                  0                  0  \n",
       "2                  0                  0  \n",
       "3                  0                  0  \n",
       "4                  1                  0  "
      ]
     },
     "execution_count": 77,
     "metadata": {},
     "output_type": "execute_result"
    }
   ],
   "source": [
    "df_numerical = df.select_dtypes(include=[np.number])\n",
    "df_numerical.head(5)"
   ]
  },
  {
   "cell_type": "markdown",
   "metadata": {},
   "source": [
    "To predict the average star rating based on other features, we need a model. A model is a function that maps from features to the target variable. This function can be very simple, like a linear model you learned about in high school: \n",
    "$$\n",
    "f: y = kx + b\n",
    "$$\n",
    "\n",
    "That's easy to solve, as \n",
    "$$\n",
    "b = mean(y)\n",
    "$$\n",
    "and \n",
    "$$\n",
    "k = \\frac{y - b}{x}\n",
    "$$\n",
    "\n",
    "Where $y$ is the target variable (here, average stars) and $x$ some feature, like review_count. You could include more features in the linear function:\n",
    "\n",
    "$$\n",
    "f: y = w_1x_1 + w_2x_2 + w_3x_3 + ... w_kx_k + b\n",
    "$$\n",
    "\n",
    "where each $x_1, x_2, ..., x_k$ is a different feature in the dataset and $w_1, w_2, ..., w_k$ a weight for that feature that is used for prediction. Matematicians will see that $\\vec{w}$ and $\\vec{x}$ can be represented as vectors or matrices:\n",
    "\n",
    "$$\n",
    "\\vec{w} = [w_1, w_2, ..., w_k, w_b]\n",
    "$$\n",
    "$$\n",
    "\\vec{x} = [x_1, x_2, ..., x_k, 1]\n",
    "$$\n",
    "\n",
    "Here the bias $b$ is incorporated in the $\\vec{x}$ array as a column of ones. Using the dot product, the above function reduces to:\n",
    "\n",
    "$$\n",
    "y = \\vec{w}^T\\vec{x}\n",
    "$$\n",
    "\n",
    "(check the wikipedia page on dot product if you need a refresh on matrices and vectors).\n",
    "\n",
    "However, in a dataset, we have many samples, so we stack them into a matrix where rows are samples and columns the feature vectors. In this way, we can predict a large number of samples in one shot:\n",
    "\n",
    "$$\n",
    "\\vec{y} = \\vec{X}\\vec{w}\n",
    "$$"
   ]
  },
  {
   "cell_type": "markdown",
   "metadata": {},
   "source": [
    "### Sklearn\n",
    "\n",
    "However, you don't need to be a mathematician to be a Data Scientist! Instead, you can use the many models someone else has already made for you. Here, we'll use the great python library sklearn to train a model that can predict the user's average stars based on their other features. First, we grab all the numerical features in the dataset, and construct our features (everything except average stars column) and target (average stars)"
   ]
  },
  {
   "cell_type": "code",
   "execution_count": 78,
   "metadata": {},
   "outputs": [],
   "source": [
    "y = df_numerical['average_stars']\n",
    "X = df_numerical.drop('average_stars', axis=1)"
   ]
  },
  {
   "cell_type": "code",
   "execution_count": 79,
   "metadata": {},
   "outputs": [
    {
     "data": {
      "text/plain": [
       "0    3.70\n",
       "1    2.00\n",
       "2    4.67\n",
       "3    4.67\n",
       "4    3.45\n",
       "Name: average_stars, dtype: float64"
      ]
     },
     "execution_count": 79,
     "metadata": {},
     "output_type": "execute_result"
    }
   ],
   "source": [
    "y.head(5)"
   ]
  },
  {
   "cell_type": "code",
   "execution_count": 80,
   "metadata": {},
   "outputs": [
    {
     "data": {
      "text/plain": [
       "(99999, 16)"
      ]
     },
     "execution_count": 80,
     "metadata": {},
     "output_type": "execute_result"
    }
   ],
   "source": [
    "X.head(5)\n",
    "X.shape"
   ]
  },
  {
   "cell_type": "markdown",
   "metadata": {},
   "source": [
    "We need a separate training and test set so that we don't test a model with data it has already seen. (Why?)\n",
    "\n",
    "So let's start by splitting the dataset into a training and validation set. This is easy with sklearn's preprocessing module:"
   ]
  },
  {
   "cell_type": "code",
   "execution_count": 81,
   "metadata": {},
   "outputs": [],
   "source": [
    "from sklearn.model_selection import train_test_split\n",
    "\n",
    "X_train, X_test, y_train, y_test = train_test_split(X, y, test_size=0.25, random_state=42)"
   ]
  },
  {
   "cell_type": "code",
   "execution_count": 82,
   "metadata": {},
   "outputs": [
    {
     "name": "stdout",
     "output_type": "stream",
     "text": [
      "74999 74999 25000 25000\n"
     ]
    }
   ],
   "source": [
    "print(len(X_train), len(y_train), len(X_test), len(y_test))"
   ]
  },
  {
   "cell_type": "markdown",
   "metadata": {},
   "source": [
    "We use a simple random forest model (read more about it here: https://towardsdatascience.com/understanding-random-forest-58381e0602d2)\n",
    "\n",
    "Sklearn's model api is incredibly simple. We just import the model, fit the data to it and then predict the test data. Afterwards we look at the results and the accuracy of our model."
   ]
  },
  {
   "cell_type": "code",
   "execution_count": 83,
   "metadata": {},
   "outputs": [],
   "source": [
    "from sklearn.ensemble import RandomForestRegressor, GradientBoostingRegressor"
   ]
  },
  {
   "cell_type": "code",
   "execution_count": 84,
   "metadata": {},
   "outputs": [
    {
     "data": {
      "text/plain": [
       "array([0.34934565, 0.24301902, 0.02472062, 0.11231919, 0.05453445,\n",
       "       0.04117839, 0.0014334 , 0.00058666, 0.00211681, 0.        ,\n",
       "       0.12786971, 0.01557829, 0.00523789, 0.00508165, 0.0062947 ,\n",
       "       0.01068355])"
      ]
     },
     "execution_count": 84,
     "metadata": {},
     "output_type": "execute_result"
    }
   ],
   "source": [
    "regr = RandomForestRegressor(max_depth=5, random_state=0, n_estimators=100)\n",
    "regr.fit(X_train, y_train)\n",
    "regr.feature_importances_"
   ]
  },
  {
   "cell_type": "code",
   "execution_count": 85,
   "metadata": {},
   "outputs": [],
   "source": [
    "y_pred = regr.predict(X_test)"
   ]
  },
  {
   "cell_type": "code",
   "execution_count": 86,
   "metadata": {},
   "outputs": [],
   "source": [
    "# Calculate mean squared error\n",
    "mse = np.mean((y_pred - y_test)**2)"
   ]
  },
  {
   "cell_type": "code",
   "execution_count": 87,
   "metadata": {},
   "outputs": [
    {
     "name": "stdout",
     "output_type": "stream",
     "text": [
      "1.264230878069125\n"
     ]
    }
   ],
   "source": [
    "print(mse)"
   ]
  },
  {
   "cell_type": "markdown",
   "metadata": {},
   "source": [
    "Our mean squared error was 1.264. Now you can predict the average stars of a user using this model!"
   ]
  },
  {
   "cell_type": "markdown",
   "metadata": {},
   "source": [
    "### Exercises"
   ]
  },
  {
   "cell_type": "markdown",
   "metadata": {},
   "source": [
    "We calculated the mean squared error of our predictions. Try to calculate the mean average error and see how it differs from the root of the mean squared error. Why are the values different/same? How does the error metrics differ and what does each tell you?"
   ]
  },
  {
   "cell_type": "code",
   "execution_count": 88,
   "metadata": {},
   "outputs": [
    {
     "name": "stdout",
     "output_type": "stream",
     "text": [
      "0.8811939602475947\n",
      "1.1243802195294637\n"
     ]
    }
   ],
   "source": [
    "# Code here\n",
    "m_av_val = np.mean(np.sqrt((y_pred - y_test)**2))\n",
    "root_mse = np.sqrt(mse)\n",
    "print(m_av_val)\n",
    "print(root_mse)"
   ]
  },
  {
   "cell_type": "markdown",
   "metadata": {},
   "source": [
    "Find out the mean and standard deviation of the predictions array y_pred"
   ]
  },
  {
   "cell_type": "code",
   "execution_count": 89,
   "metadata": {},
   "outputs": [
    {
     "name": "stdout",
     "output_type": "stream",
     "text": [
      "3.7211229407932773\n",
      "0.1369263932285764\n"
     ]
    }
   ],
   "source": [
    "# Code here\n",
    "m_y_pred = np.mean(y_pred)\n",
    "print(m_y_pred)\n",
    "st_dev_y_pred = np.std(y_pred)\n",
    "print(st_dev_y_pred)"
   ]
  },
  {
   "cell_type": "markdown",
   "metadata": {},
   "source": [
    "Make your own feature vector that you might have on the platform, and predict what your average star rating is."
   ]
  },
  {
   "cell_type": "code",
   "execution_count": 90,
   "metadata": {},
   "outputs": [
    {
     "data": {
      "text/plain": [
       "array([3.86464786])"
      ]
     },
     "execution_count": 90,
     "metadata": {},
     "output_type": "execute_result"
    }
   ],
   "source": [
    "# Code here\n",
    "\n",
    "X1 = df_numerical.drop('average_stars', axis=1).head(1)\n",
    "X1\n",
    "y_pred1 = regr.predict(X1)\n",
    "y_pred1"
   ]
  },
  {
   "cell_type": "markdown",
   "metadata": {},
   "source": [
    "Often, it is useful to see what variables were the most important after fitting a model. You can find these values with the feature_importances property of the model.\n",
    "\n",
    "Task: Plot the feature importances of the Random Forest Regression model. \n",
    "\n",
    "Hint: take a look at https://scikit-learn.org/stable/modules/generated/sklearn.ensemble.RandomForestRegressor.html"
   ]
  },
  {
   "cell_type": "code",
   "execution_count": 91,
   "metadata": {},
   "outputs": [
    {
     "data": {
      "text/plain": [
       "array([0.34934565, 0.24301902, 0.02472062, 0.11231919, 0.05453445,\n",
       "       0.04117839, 0.0014334 , 0.00058666, 0.00211681, 0.        ,\n",
       "       0.12786971, 0.01557829, 0.00523789, 0.00508165, 0.0062947 ,\n",
       "       0.01068355])"
      ]
     },
     "execution_count": 91,
     "metadata": {},
     "output_type": "execute_result"
    }
   ],
   "source": [
    "# Code\n",
    "regr.feature_importances_"
   ]
  },
  {
   "cell_type": "markdown",
   "metadata": {},
   "source": [
    "There are many models for different situations. Check sklearn's supervised learning module at https://scikit-learn.org/stable/supervised_learning.html, pick some other model than random forest and experiment with the results."
   ]
  },
  {
   "cell_type": "code",
   "execution_count": 92,
   "metadata": {},
   "outputs": [],
   "source": [
    "# Code"
   ]
  },
  {
   "cell_type": "code",
   "execution_count": 93,
   "metadata": {},
   "outputs": [
    {
     "data": {
      "text/plain": [
       "array([0.26391219, 0.20872256, 0.07716088, 0.12926069, 0.0651397 ,\n",
       "       0.04145612, 0.01062216, 0.00435855, 0.00930227, 0.0012385 ,\n",
       "       0.09714409, 0.02867176, 0.01672816, 0.01430534, 0.01182821,\n",
       "       0.02014883])"
      ]
     },
     "execution_count": 93,
     "metadata": {},
     "output_type": "execute_result"
    }
   ],
   "source": [
    "#we use Gradient Boosting Regression\n",
    "regr = GradientBoostingRegressor(max_depth=5, random_state=0, n_estimators=200)\n",
    "regr.fit(X_train, y_train)\n",
    "regr.feature_importances_"
   ]
  },
  {
   "cell_type": "code",
   "execution_count": 94,
   "metadata": {},
   "outputs": [
    {
     "name": "stdout",
     "output_type": "stream",
     "text": [
      "1.2629992571963689\n"
     ]
    }
   ],
   "source": [
    "y_pred = regr.predict(X_test)\n",
    "# Calculate mean squared error\n",
    "mse = np.mean((y_pred - y_test)**2)\n",
    "print(mse)"
   ]
  },
  {
   "cell_type": "markdown",
   "metadata": {},
   "source": [
    "The result for GradientBoostingRegression is a little bit better then for Random Forest Regression"
   ]
  },
  {
   "cell_type": "code",
   "execution_count": 95,
   "metadata": {},
   "outputs": [],
   "source": [
    "from sklearn.linear_model import ElasticNet, Lasso,  BayesianRidge, LassoLarsIC\n",
    "from sklearn.ensemble import RandomForestRegressor, GradientBoostingRegressor \n",
    "from sklearn.kernel_ridge import KernelRidge\n",
    "from sklearn.pipeline import make_pipeline\n",
    "from sklearn.preprocessing import RobustScaler"
   ]
  },
  {
   "cell_type": "code",
   "execution_count": 96,
   "metadata": {},
   "outputs": [
    {
     "name": "stdout",
     "output_type": "stream",
     "text": [
      "1.2870078149572604\n"
     ]
    }
   ],
   "source": [
    "#We try to use the method\n",
    "regr = make_pipeline(RobustScaler(), Lasso(alpha = 1.0, random_state=1))\n",
    "regr.fit(X_train, y_train)\n",
    "y_pred = regr.predict(X_test)\n",
    "# Calculate mean squared error\n",
    "mse = np.mean((y_pred - y_test)**2)\n",
    "print(mse)"
   ]
  },
  {
   "cell_type": "code",
   "execution_count": 97,
   "metadata": {},
   "outputs": [
    {
     "name": "stdout",
     "output_type": "stream",
     "text": [
      "1.287007158467205\n"
     ]
    }
   ],
   "source": [
    "# and this one , but the results are not better (we did it with aplha from 0.005 to 100.0, about same results)\n",
    "regr = make_pipeline(RobustScaler(), ElasticNet(alpha=1.0, l1_ratio=.9, random_state=3))\n",
    "regr.fit(X_train, y_train)\n",
    "y_pred = regr.predict(X_test)\n",
    "# Calculate mean squared error\n",
    "mse = np.mean((y_pred - y_test)**2)\n",
    "print(mse)"
   ]
  },
  {
   "cell_type": "code",
   "execution_count": null,
   "metadata": {},
   "outputs": [],
   "source": []
  }
 ],
 "metadata": {
  "kernelspec": {
   "display_name": "Python 3",
   "language": "python",
   "name": "python3"
  },
  "language_info": {
   "codemirror_mode": {
    "name": "ipython",
    "version": 3
   },
   "file_extension": ".py",
   "mimetype": "text/x-python",
   "name": "python",
   "nbconvert_exporter": "python",
   "pygments_lexer": "ipython3",
   "version": "3.7.3"
  }
 },
 "nbformat": 4,
 "nbformat_minor": 2
}
